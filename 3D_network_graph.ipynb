{
 "cells": [
  {
   "cell_type": "code",
   "execution_count": 36,
   "metadata": {
    "scrolled": true
   },
   "outputs": [
    {
     "data": {
      "text/html": [
       "<script>requirejs.config({paths: { 'plotly': ['https://cdn.plot.ly/plotly-latest.min']},});if(!window.Plotly) {{require(['plotly'],function(plotly) {window.Plotly=plotly;});}}</script>"
      ],
      "text/vnd.plotly.v1+html": [
       "<script>requirejs.config({paths: { 'plotly': ['https://cdn.plot.ly/plotly-latest.min']},});if(!window.Plotly) {{require(['plotly'],function(plotly) {window.Plotly=plotly;});}}</script>"
      ]
     },
     "metadata": {},
     "output_type": "display_data"
    },
    {
     "name": "stdout",
     "output_type": "stream",
     "text": [
      "dict_keys(['nodes', 'links'])\n",
      "14\n",
      "Edges are\n",
      "[(1, 0), (2, 0), (3, 0), (3, 2), (4, 0), (5, 0), (7, 13), (8, 13), (9, 13), (10, 13), (11, 13), (12, 13)]\n",
      "{'name': '<a href=\"http://www.google.com\">Hello</a>', 'group': 'First'}\n",
      "['1>0', '2>0', '3>0', '3>2', '4>0', '5>0', '5>0', '5>0', '5>0', '5>0', '5>0', '5>0']\n",
      "[2.5224850821521287, -0.6295349542626324, -1.2539480884629985]\n"
     ]
    },
    {
     "data": {
      "application/vnd.plotly.v1+json": {
       "data": [
        {
         "hoverinfo": "text",
         "marker": {
          "color": "r",
          "colorscale": "Viridis",
          "line": {
           "color": "rgb(50,50,50)",
           "width": 0.5
          },
          "size": 30,
          "symbol": "square"
         },
         "mode": "markers",
         "name": "First",
         "text": [
          "<a href=\"http://www.google.com\">Hello</a>",
          "First",
          "Second",
          "Third",
          "Fourth",
          "Fifth",
          "Sixth",
          "Sixth",
          "Sixth",
          "Sixth",
          "Sixth",
          "Sixth",
          "Sixth",
          "Seventh"
         ],
         "type": "scatter3d",
         "x": [
          1.855469766177642,
          1.3990577100883355,
          1.4253704332286257,
          3.372321266373654,
          2.5171791124260623,
          3.3687160034478474,
          1.7817721181217712,
          2.658059430050577,
          1.6424128554304411
         ],
         "y": [
          -0.24908757957182973,
          -1.0591231489259152,
          -0.503298834422916,
          -0.9241104321185037,
          -2.0945203917161264,
          -1.4702264477768134,
          -1.7910907278843822,
          -1.0913774851940568,
          -2.0967353629670407
         ],
         "z": [
          -0.6134085416712365,
          -1.0363536282752268,
          1.071145820893706,
          0.5198610347235797,
          -0.6250082679577097,
          -0.36308769882080344,
          0.9019171041465477,
          1.1839311596841462,
          -0.02285809052045313
         ]
        },
        {
         "hoverinfo": "text",
         "marker": {
          "color": "r",
          "colorscale": "Viridis",
          "line": {
           "color": "rgb(50,50,50)",
           "width": 0.5
          },
          "size": 30,
          "symbol": "square"
         },
         "mode": "markers",
         "name": "Second",
         "text": [
          "<a href=\"http://www.google.com\">Hello</a>",
          "First",
          "Second",
          "Third",
          "Fourth",
          "Fifth",
          "Sixth",
          "Sixth",
          "Sixth",
          "Sixth",
          "Sixth",
          "Sixth",
          "Sixth",
          "Seventh"
         ],
         "type": "scatter3d",
         "x": [
          2.1260901048022443,
          2.7515039173859575
         ],
         "y": [
          0.26529671725009274,
          0.13775350974515016
         ],
         "z": [
          0.20715647867961565,
          -0.29901238337908914
         ]
        },
        {
         "hoverinfo": "text",
         "marker": {
          "color": "r",
          "colorscale": "Viridis",
          "line": {
           "color": "rgb(50,50,50)",
           "width": 0.5
          },
          "size": 30,
          "symbol": "square"
         },
         "mode": "markers",
         "name": "Third",
         "text": [
          "<a href=\"http://www.google.com\">Hello</a>",
          "First",
          "Second",
          "Third",
          "Fourth",
          "Fifth",
          "Sixth",
          "Sixth",
          "Sixth",
          "Sixth",
          "Sixth",
          "Sixth",
          "Sixth",
          "Seventh"
         ],
         "type": "scatter3d",
         "x": [
          0.9958418992884329,
          2.5224850821521287,
          2.6264525372983583
         ],
         "y": [
          -0.5554290665553485,
          -0.6295349542626324,
          -1.7067567567612982
         ],
         "z": [
          -0.15055950799375054,
          -1.2539480884629985,
          0.3289615540260724
         ]
        },
        {
         "hoverinfo": "none",
         "line": {
          "color": [
           "1>0",
           "2>0",
           "3>0",
           "3>2",
           "4>0",
           "5>0",
           "5>0",
           "5>0",
           "5>0",
           "5>0",
           "5>0",
           "5>0"
          ],
          "width": 0.7
         },
         "mode": "lines",
         "name": "Edges",
         "type": "scatter3d",
         "x": [
          1.3990577100883355,
          1.855469766177642,
          null,
          2.1260901048022443,
          1.855469766177642,
          null,
          2.7515039173859575,
          1.855469766177642,
          null,
          2.7515039173859575,
          2.1260901048022443,
          null,
          0.9958418992884329,
          1.855469766177642,
          null,
          2.5224850821521287,
          1.855469766177642,
          null
         ],
         "y": [
          -1.0591231489259152,
          -0.24908757957182973,
          null,
          0.26529671725009274,
          -0.24908757957182973,
          null,
          0.13775350974515016,
          -0.24908757957182973,
          null,
          0.13775350974515016,
          0.26529671725009274,
          null,
          -0.5554290665553485,
          -0.24908757957182973,
          null,
          -0.6295349542626324,
          -0.24908757957182973,
          null
         ],
         "z": [
          -1.0363536282752268,
          -0.6134085416712365,
          null,
          0.20715647867961565,
          -0.6134085416712365,
          null,
          -0.29901238337908914,
          -0.6134085416712365,
          null,
          -0.29901238337908914,
          0.20715647867961565,
          null,
          -0.15055950799375054,
          -0.6134085416712365,
          null,
          -1.2539480884629985,
          -0.6134085416712365,
          null
         ]
        }
       ],
       "layout": {
        "annotations": [
         {
          "font": {
           "size": 14
          },
          "showarrow": false,
          "text": "Data source: <a href='http://bost.ocks.org/mike/miserables/miserables.json'>[1] miserables.json</a>",
          "x": 0,
          "xanchor": "left",
          "xref": "paper",
          "y": 0.1,
          "yanchor": "bottom",
          "yref": "paper"
         }
        ],
        "height": 1000,
        "hovermode": "closest",
        "margin": {
         "t": 100
        },
        "scene": {
         "xaxis": {
          "showbackground": false,
          "showgrid": false,
          "showline": false,
          "showticklabels": false,
          "title": "",
          "zeroline": false
         },
         "yaxis": {
          "showbackground": false,
          "showgrid": false,
          "showline": false,
          "showticklabels": false,
          "title": "",
          "zeroline": false
         },
         "zaxis": {
          "showbackground": false,
          "showgrid": false,
          "showline": false,
          "showticklabels": false,
          "title": "",
          "zeroline": false
         }
        },
        "showlegend": true,
        "title": "Network of coappearances of characters in Victor Hugo's novel<br> Les Miserables (3D visualization)",
        "width": 1000
       }
      },
      "text/html": [
       "<div id=\"a7ae3222-77f6-4495-95ed-3807608bc04b\" style=\"height: 1000px; width: 1000px;\" class=\"plotly-graph-div\"></div><script type=\"text/javascript\">require([\"plotly\"], function(Plotly) { window.PLOTLYENV=window.PLOTLYENV || {};window.PLOTLYENV.BASE_URL=\"https://plot.ly\";Plotly.newPlot(\"a7ae3222-77f6-4495-95ed-3807608bc04b\", [{\"type\": \"scatter3d\", \"x\": [1.855469766177642, 1.3990577100883355, 1.4253704332286257, 3.372321266373654, 2.5171791124260623, 3.3687160034478474, 1.7817721181217712, 2.658059430050577, 1.6424128554304411], \"y\": [-0.24908757957182973, -1.0591231489259152, -0.503298834422916, -0.9241104321185037, -2.0945203917161264, -1.4702264477768134, -1.7910907278843822, -1.0913774851940568, -2.0967353629670407], \"z\": [-0.6134085416712365, -1.0363536282752268, 1.071145820893706, 0.5198610347235797, -0.6250082679577097, -0.36308769882080344, 0.9019171041465477, 1.1839311596841462, -0.02285809052045313], \"mode\": \"markers\", \"name\": \"First\", \"marker\": {\"symbol\": \"square\", \"size\": 30, \"color\": \"r\", \"colorscale\": \"Viridis\", \"line\": {\"color\": \"rgb(50,50,50)\", \"width\": 0.5}}, \"text\": [\"<a href=\\\"http://www.google.com\\\">Hello</a>\", \"First\", \"Second\", \"Third\", \"Fourth\", \"Fifth\", \"Sixth\", \"Sixth\", \"Sixth\", \"Sixth\", \"Sixth\", \"Sixth\", \"Sixth\", \"Seventh\"], \"hoverinfo\": \"text\"}, {\"type\": \"scatter3d\", \"x\": [2.1260901048022443, 2.7515039173859575], \"y\": [0.26529671725009274, 0.13775350974515016], \"z\": [0.20715647867961565, -0.29901238337908914], \"mode\": \"markers\", \"name\": \"Second\", \"marker\": {\"symbol\": \"square\", \"size\": 30, \"color\": \"r\", \"colorscale\": \"Viridis\", \"line\": {\"color\": \"rgb(50,50,50)\", \"width\": 0.5}}, \"text\": [\"<a href=\\\"http://www.google.com\\\">Hello</a>\", \"First\", \"Second\", \"Third\", \"Fourth\", \"Fifth\", \"Sixth\", \"Sixth\", \"Sixth\", \"Sixth\", \"Sixth\", \"Sixth\", \"Sixth\", \"Seventh\"], \"hoverinfo\": \"text\"}, {\"type\": \"scatter3d\", \"x\": [0.9958418992884329, 2.5224850821521287, 2.6264525372983583], \"y\": [-0.5554290665553485, -0.6295349542626324, -1.7067567567612982], \"z\": [-0.15055950799375054, -1.2539480884629985, 0.3289615540260724], \"mode\": \"markers\", \"name\": \"Third\", \"marker\": {\"symbol\": \"square\", \"size\": 30, \"color\": \"r\", \"colorscale\": \"Viridis\", \"line\": {\"color\": \"rgb(50,50,50)\", \"width\": 0.5}}, \"text\": [\"<a href=\\\"http://www.google.com\\\">Hello</a>\", \"First\", \"Second\", \"Third\", \"Fourth\", \"Fifth\", \"Sixth\", \"Sixth\", \"Sixth\", \"Sixth\", \"Sixth\", \"Sixth\", \"Sixth\", \"Seventh\"], \"hoverinfo\": \"text\"}, {\"type\": \"scatter3d\", \"x\": [1.3990577100883355, 1.855469766177642, null, 2.1260901048022443, 1.855469766177642, null, 2.7515039173859575, 1.855469766177642, null, 2.7515039173859575, 2.1260901048022443, null, 0.9958418992884329, 1.855469766177642, null, 2.5224850821521287, 1.855469766177642, null], \"y\": [-1.0591231489259152, -0.24908757957182973, null, 0.26529671725009274, -0.24908757957182973, null, 0.13775350974515016, -0.24908757957182973, null, 0.13775350974515016, 0.26529671725009274, null, -0.5554290665553485, -0.24908757957182973, null, -0.6295349542626324, -0.24908757957182973, null], \"z\": [-1.0363536282752268, -0.6134085416712365, null, 0.20715647867961565, -0.6134085416712365, null, -0.29901238337908914, -0.6134085416712365, null, -0.29901238337908914, 0.20715647867961565, null, -0.15055950799375054, -0.6134085416712365, null, -1.2539480884629985, -0.6134085416712365, null], \"name\": \"Edges\", \"mode\": \"lines\", \"line\": {\"color\": [\"1>0\", \"2>0\", \"3>0\", \"3>2\", \"4>0\", \"5>0\", \"5>0\", \"5>0\", \"5>0\", \"5>0\", \"5>0\", \"5>0\"], \"width\": 0.7}, \"hoverinfo\": \"none\"}], {\"title\": \"Network of coappearances of characters in Victor Hugo's novel<br> Les Miserables (3D visualization)\", \"width\": 1000, \"height\": 1000, \"showlegend\": true, \"scene\": {\"xaxis\": {\"showbackground\": false, \"showline\": false, \"zeroline\": false, \"showgrid\": false, \"showticklabels\": false, \"title\": \"\"}, \"yaxis\": {\"showbackground\": false, \"showline\": false, \"zeroline\": false, \"showgrid\": false, \"showticklabels\": false, \"title\": \"\"}, \"zaxis\": {\"showbackground\": false, \"showline\": false, \"zeroline\": false, \"showgrid\": false, \"showticklabels\": false, \"title\": \"\"}}, \"margin\": {\"t\": 100}, \"hovermode\": \"closest\", \"annotations\": [{\"showarrow\": false, \"text\": \"Data source: <a href='http://bost.ocks.org/mike/miserables/miserables.json'>[1] miserables.json</a>\", \"xref\": \"paper\", \"yref\": \"paper\", \"x\": 0, \"y\": 0.1, \"xanchor\": \"left\", \"yanchor\": \"bottom\", \"font\": {\"size\": 14}}]}, {\"showLink\": true, \"linkText\": \"Export to plot.ly\"})});</script>"
      ],
      "text/vnd.plotly.v1+html": [
       "<div id=\"a7ae3222-77f6-4495-95ed-3807608bc04b\" style=\"height: 1000px; width: 1000px;\" class=\"plotly-graph-div\"></div><script type=\"text/javascript\">require([\"plotly\"], function(Plotly) { window.PLOTLYENV=window.PLOTLYENV || {};window.PLOTLYENV.BASE_URL=\"https://plot.ly\";Plotly.newPlot(\"a7ae3222-77f6-4495-95ed-3807608bc04b\", [{\"type\": \"scatter3d\", \"x\": [1.855469766177642, 1.3990577100883355, 1.4253704332286257, 3.372321266373654, 2.5171791124260623, 3.3687160034478474, 1.7817721181217712, 2.658059430050577, 1.6424128554304411], \"y\": [-0.24908757957182973, -1.0591231489259152, -0.503298834422916, -0.9241104321185037, -2.0945203917161264, -1.4702264477768134, -1.7910907278843822, -1.0913774851940568, -2.0967353629670407], \"z\": [-0.6134085416712365, -1.0363536282752268, 1.071145820893706, 0.5198610347235797, -0.6250082679577097, -0.36308769882080344, 0.9019171041465477, 1.1839311596841462, -0.02285809052045313], \"mode\": \"markers\", \"name\": \"First\", \"marker\": {\"symbol\": \"square\", \"size\": 30, \"color\": \"r\", \"colorscale\": \"Viridis\", \"line\": {\"color\": \"rgb(50,50,50)\", \"width\": 0.5}}, \"text\": [\"<a href=\\\"http://www.google.com\\\">Hello</a>\", \"First\", \"Second\", \"Third\", \"Fourth\", \"Fifth\", \"Sixth\", \"Sixth\", \"Sixth\", \"Sixth\", \"Sixth\", \"Sixth\", \"Sixth\", \"Seventh\"], \"hoverinfo\": \"text\"}, {\"type\": \"scatter3d\", \"x\": [2.1260901048022443, 2.7515039173859575], \"y\": [0.26529671725009274, 0.13775350974515016], \"z\": [0.20715647867961565, -0.29901238337908914], \"mode\": \"markers\", \"name\": \"Second\", \"marker\": {\"symbol\": \"square\", \"size\": 30, \"color\": \"r\", \"colorscale\": \"Viridis\", \"line\": {\"color\": \"rgb(50,50,50)\", \"width\": 0.5}}, \"text\": [\"<a href=\\\"http://www.google.com\\\">Hello</a>\", \"First\", \"Second\", \"Third\", \"Fourth\", \"Fifth\", \"Sixth\", \"Sixth\", \"Sixth\", \"Sixth\", \"Sixth\", \"Sixth\", \"Sixth\", \"Seventh\"], \"hoverinfo\": \"text\"}, {\"type\": \"scatter3d\", \"x\": [0.9958418992884329, 2.5224850821521287, 2.6264525372983583], \"y\": [-0.5554290665553485, -0.6295349542626324, -1.7067567567612982], \"z\": [-0.15055950799375054, -1.2539480884629985, 0.3289615540260724], \"mode\": \"markers\", \"name\": \"Third\", \"marker\": {\"symbol\": \"square\", \"size\": 30, \"color\": \"r\", \"colorscale\": \"Viridis\", \"line\": {\"color\": \"rgb(50,50,50)\", \"width\": 0.5}}, \"text\": [\"<a href=\\\"http://www.google.com\\\">Hello</a>\", \"First\", \"Second\", \"Third\", \"Fourth\", \"Fifth\", \"Sixth\", \"Sixth\", \"Sixth\", \"Sixth\", \"Sixth\", \"Sixth\", \"Sixth\", \"Seventh\"], \"hoverinfo\": \"text\"}, {\"type\": \"scatter3d\", \"x\": [1.3990577100883355, 1.855469766177642, null, 2.1260901048022443, 1.855469766177642, null, 2.7515039173859575, 1.855469766177642, null, 2.7515039173859575, 2.1260901048022443, null, 0.9958418992884329, 1.855469766177642, null, 2.5224850821521287, 1.855469766177642, null], \"y\": [-1.0591231489259152, -0.24908757957182973, null, 0.26529671725009274, -0.24908757957182973, null, 0.13775350974515016, -0.24908757957182973, null, 0.13775350974515016, 0.26529671725009274, null, -0.5554290665553485, -0.24908757957182973, null, -0.6295349542626324, -0.24908757957182973, null], \"z\": [-1.0363536282752268, -0.6134085416712365, null, 0.20715647867961565, -0.6134085416712365, null, -0.29901238337908914, -0.6134085416712365, null, -0.29901238337908914, 0.20715647867961565, null, -0.15055950799375054, -0.6134085416712365, null, -1.2539480884629985, -0.6134085416712365, null], \"name\": \"Edges\", \"mode\": \"lines\", \"line\": {\"color\": [\"1>0\", \"2>0\", \"3>0\", \"3>2\", \"4>0\", \"5>0\", \"5>0\", \"5>0\", \"5>0\", \"5>0\", \"5>0\", \"5>0\"], \"width\": 0.7}, \"hoverinfo\": \"none\"}], {\"title\": \"Network of coappearances of characters in Victor Hugo's novel<br> Les Miserables (3D visualization)\", \"width\": 1000, \"height\": 1000, \"showlegend\": true, \"scene\": {\"xaxis\": {\"showbackground\": false, \"showline\": false, \"zeroline\": false, \"showgrid\": false, \"showticklabels\": false, \"title\": \"\"}, \"yaxis\": {\"showbackground\": false, \"showline\": false, \"zeroline\": false, \"showgrid\": false, \"showticklabels\": false, \"title\": \"\"}, \"zaxis\": {\"showbackground\": false, \"showline\": false, \"zeroline\": false, \"showgrid\": false, \"showticklabels\": false, \"title\": \"\"}}, \"margin\": {\"t\": 100}, \"hovermode\": \"closest\", \"annotations\": [{\"showarrow\": false, \"text\": \"Data source: <a href='http://bost.ocks.org/mike/miserables/miserables.json'>[1] miserables.json</a>\", \"xref\": \"paper\", \"yref\": \"paper\", \"x\": 0, \"y\": 0.1, \"xanchor\": \"left\", \"yanchor\": \"bottom\", \"font\": {\"size\": 14}}]}, {\"showLink\": true, \"linkText\": \"Export to plot.ly\"})});</script>"
      ]
     },
     "metadata": {},
     "output_type": "display_data"
    }
   ],
   "source": [
    "#!/usr/bin/env python3\n",
    "# -*- coding: utf-8 -*-\n",
    "\"\"\"\n",
    "Created on Sat Sep 15 17:43:55 2018\n",
    "\n",
    "@author: jonathanrice\n",
    "\"\"\"\n",
    "\n",
    "import igraph as ig\n",
    "\n",
    "import json\n",
    "import urllib\n",
    "\n",
    "import plotly.plotly as py\n",
    "import plotly.graph_objs as go\n",
    "from plotly.offline import download_plotlyjs, init_notebook_mode, plot, iplot\n",
    "\n",
    "MAX_VALUE = 13\n",
    "\n",
    "init_notebook_mode(connected=True)\n",
    "\n",
    "\n",
    "req = urllib.request.Request(\"https://raw.githubusercontent.com/plotly/datasets/master/miserables.json\")\n",
    "\n",
    "opener = urllib.request.build_opener()\n",
    "response = opener.open(req)\n",
    "data = json.loads(response.read())\n",
    "print(data.keys())\n",
    "\n",
    "data = {\"nodes\":\n",
    "\n",
    "[{\"name\":'<a href=\"http://www.google.com\">Hello</a>',\"group\":\"First\"},\n",
    "{\"name\":\"First\",\"group\":\"First\"},\n",
    "{\"name\":\"Second\",\"group\":\"Second\"},\n",
    "{\"name\":\"Third\",\"group\":\"Second\"},\n",
    "{\"name\":\"Fourth\",\"group\":\"Third\"},\n",
    "{\"name\":\"Fifth\",\"group\":\"Third\"},\n",
    "{\"name\":\"Sixth\", \"group\":\"First\"},\n",
    " {\"name\":\"Sixth\", \"group\":\"First\"},\n",
    " {\"name\":\"Sixth\", \"group\":\"First\"},\n",
    " {\"name\":\"Sixth\", \"group\":\"First\"},\n",
    " {\"name\":\"Sixth\", \"group\":\"First\"},\n",
    " {\"name\":\"Sixth\", \"group\":\"First\"},\n",
    " {\"name\":\"Sixth\", \"group\":\"First\"}\n",
    "],\n",
    "\n",
    "\"links\":[\n",
    "\n",
    "{\"source\":1,\"target\":0,\"value\":\"1>0\"},\n",
    "{\"source\":2,\"target\":0,\"value\":\"2>0\"},\n",
    "{\"source\":3,\"target\":0,\"value\":\"3>0\"},\n",
    "{\"source\":3,\"target\":2,\"value\":\"3>2\"},\n",
    "{\"source\":4,\"target\":0,\"value\":\"4>0\"},\n",
    "{\"source\":5,\"target\":0,\"value\":\"5>0\"},\n",
    "{\"source\":7,\"target\":MAX_VALUE,\"value\":\"5>0\"},\n",
    "    {\"source\":8,\"target\":MAX_VALUE,\"value\":\"5>0\"},\n",
    "        {\"source\":9,\"target\":MAX_VALUE,\"value\":\"5>0\"},\n",
    "        {\"source\":10,\"target\":MAX_VALUE,\"value\":\"5>0\"},\n",
    "        {\"source\":11,\"target\":MAX_VALUE,\"value\":\"5>0\"},\n",
    "        {\"source\":12,\"target\":MAX_VALUE,\"value\":\"5>0\"}\n",
    "\n",
    "]}\n",
    "\n",
    "\n",
    "\n",
    "data['nodes'].append({'name':'Seventh','group':'Third'})\n",
    "\n",
    "\n",
    "\n",
    "\n",
    "group_dictionary = {\"First\":1, \"Second\":2,\"Third\":3}\n",
    "\n",
    "N=len(data['nodes'])\n",
    "print(N)\n",
    "\n",
    "L=len(data['links'])\n",
    "Edges=[(data['links'][k]['source'], data['links'][k]['target']) for k in range(L)]\n",
    "\n",
    "\n",
    "print(\"Edges are\")\n",
    "print(Edges)\n",
    "\n",
    "G=ig.Graph(Edges, directed=False)\n",
    "\n",
    "print(data['nodes'][0])\n",
    "\n",
    "labels=[]\n",
    "group=[]\n",
    "values=[]\n",
    "for node in data['nodes']:\n",
    "    labels.append(node['name'])\n",
    "    group.append(node['group'])\n",
    "\n",
    "for link in data['links']:\n",
    "    \n",
    "    values.append(link['value'])\n",
    "\n",
    "\n",
    "print(values)\n",
    "    \n",
    "layt=G.layout('kk', dim=3) \n",
    "\n",
    "print(layt[5])\n",
    "\n",
    "\n",
    "grouped_points = list(zip(layt, group))\n",
    "\n",
    "first_layer = [x for x in grouped_points if x[1] == 'First']\n",
    "\n",
    "\n",
    "Xn=[layt[k][0] for k in range(N)]# x-coordinates of nodes\n",
    "Yn=[layt[k][1] for k in range(N)]# y-coordinates\n",
    "Zn=[layt[k][2] for k in range(N)]# z-coordinates\n",
    "\n",
    "Xe=[]\n",
    "Ye=[]\n",
    "Ze=[]\n",
    "\n",
    "Edges = [x for x in Edges if x[1] != MAX_VALUE] # Remove unlinked edges (in this case, target = 100)\n",
    "\n",
    "for e in Edges:\n",
    "    Xe+=[layt[e[0]][0],layt[e[1]][0], None]# x-coordinates of edge ends\n",
    "    Ye+=[layt[e[0]][1],layt[e[1]][1], None]  \n",
    "    Ze+=[layt[e[0]][2],layt[e[1]][2], None]  \n",
    "    \n",
    "trace1=go.Scatter3d(x=Xe,\n",
    "               y=Ye,\n",
    "               z=Ze,\n",
    "                    name='Edges',\n",
    "               mode='lines',\n",
    "               line=dict(color=values, width=0.7),\n",
    "               hoverinfo='none'\n",
    "               )\n",
    "\n",
    "\n",
    "def generate_nodes_from_conditions(conditions):\n",
    "    traces = []\n",
    "    for condition in conditions:\n",
    "        grouped_points = list(zip(layt, group))\n",
    "        first_layer = [x for x in grouped_points if x[1] == condition]\n",
    "        trace = go.Scatter3d(x=[x[0][0] for x in first_layer],\n",
    "               y=[x[0][1] for x in first_layer],\n",
    "               z=[x[0][2] for x in first_layer],\n",
    "               mode='markers',\n",
    "               name=condition,\n",
    "               marker=dict(symbol='square',\n",
    "                             size=30,\n",
    "                             color='r',\n",
    "                             colorscale='Viridis',\n",
    "                             line=dict(color='rgb(50,50,50)', width=0.5)\n",
    "                             ),\n",
    "               text=labels,\n",
    "               hoverinfo='text'\n",
    "               )\n",
    "        traces.append(trace)\n",
    "        \n",
    "    return traces\n",
    "    \n",
    "\n",
    "axis=dict(showbackground=False,\n",
    "          showline=False,\n",
    "          zeroline=False,\n",
    "          showgrid=False,\n",
    "          showticklabels=False,\n",
    "          title=''\n",
    "          )\n",
    "\n",
    "layout = go.Layout(\n",
    "         title=\"Network of coappearances of characters in Victor Hugo's novel<br> Les Miserables (3D visualization)\",\n",
    "         width=1000,\n",
    "         height=1000,\n",
    "         showlegend=True,\n",
    "         scene=dict(\n",
    "             xaxis=dict(axis),\n",
    "             yaxis=dict(axis),\n",
    "             zaxis=dict(axis),\n",
    "        ),\n",
    "     margin=dict(\n",
    "        t=100\n",
    "    ),\n",
    "    hovermode='closest',\n",
    "    annotations=[\n",
    "           dict(\n",
    "           showarrow=False,\n",
    "            text=\"Data source: <a href='http://bost.ocks.org/mike/miserables/miserables.json'>[1] miserables.json</a>\",\n",
    "            xref='paper',\n",
    "            yref='paper',\n",
    "            x=0,\n",
    "            y=0.1,\n",
    "            xanchor='left',\n",
    "            yanchor='bottom',\n",
    "            font=dict(\n",
    "            size=14\n",
    "            )\n",
    "            )\n",
    "        ],    )\n",
    "            \n",
    "data= generate_nodes_from_conditions(['First','Second','Third'])\n",
    "data.append(trace1)\n",
    "fig=go.Figure(data=data, layout=layout)\n",
    "\n",
    "iplot(fig, filename='Les-Miserables')\n",
    "\n",
    "\n",
    "\n",
    "\n",
    "\n"
   ]
  },
  {
   "cell_type": "code",
   "execution_count": null,
   "metadata": {},
   "outputs": [],
   "source": []
  }
 ],
 "metadata": {
  "kernelspec": {
   "display_name": "Python 3",
   "language": "python",
   "name": "python3"
  },
  "language_info": {
   "codemirror_mode": {
    "name": "ipython",
    "version": 3
   },
   "file_extension": ".py",
   "mimetype": "text/x-python",
   "name": "python",
   "nbconvert_exporter": "python",
   "pygments_lexer": "ipython3",
   "version": "3.6.6"
  }
 },
 "nbformat": 4,
 "nbformat_minor": 2
}
